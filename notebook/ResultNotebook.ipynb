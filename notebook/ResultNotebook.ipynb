{
 "cells": [
  {
   "cell_type": "markdown",
   "metadata": {},
   "source": [
    "## Analysing output of PrEWRunRK fits\n",
    "\n",
    "Using output of test toy fits from PrEW, import it into the PrOut python classes and create some histograms with it."
   ]
  },
  {
   "cell_type": "markdown",
   "metadata": {},
   "source": [
    "### Import PrEW output module"
   ]
  },
  {
   "cell_type": "code",
   "execution_count": 1,
   "metadata": {
    "collapsed": false
   },
   "outputs": [],
   "source": [
    "import sys\n",
    "sys.path.append(\"../../PrEW/source/prout\")\n",
    "import PrOut"
   ]
  },
  {
   "cell_type": "markdown",
   "metadata": {},
   "source": [
    "### Import other modules"
   ]
  },
  {
   "cell_type": "code",
   "execution_count": 2,
   "metadata": {
    "collapsed": true
   },
   "outputs": [],
   "source": [
    "import numpy as np\n",
    "import matplotlib.pyplot as plt"
   ]
  },
  {
   "cell_type": "markdown",
   "metadata": {},
   "source": [
    "### Read output file"
   ]
  },
  {
   "cell_type": "code",
   "execution_count": 3,
   "metadata": {
    "collapsed": false
   },
   "outputs": [
    {
     "name": "stdout",
     "output_type": "stream",
     "text": [
      "Found 1 run(s).\n"
     ]
    }
   ],
   "source": [
    "reader = PrOut.Reader(\"../output/fit_results.out\")\n",
    "reader.read()\n",
    "print(\"Found \" + str(len(reader.run_results)) + \" run(s).\")"
   ]
  },
  {
   "cell_type": "markdown",
   "metadata": {},
   "source": [
    "### Collect parameters"
   ]
  },
  {
   "cell_type": "code",
   "execution_count": 4,
   "metadata": {
    "collapsed": false
   },
   "outputs": [],
   "source": [
    "# Assuming only one toy run (with many toys) was performed, get number of parameters and performed toy fits\n",
    "result = reader.run_results[0]\n",
    "n_pars = len(result.par_names)\n",
    "n_fits = len(result.fit_results)\n",
    "\n",
    "# Get the chi-squared values, parameters, uncertainties and correlation matrices from each fit\n",
    "chi_sqs = np.empty(n_fits)\n",
    "par_results = np.empty((n_pars,n_fits))\n",
    "unc_results = np.empty((n_pars,n_fits))\n",
    "cor_matrix_results = np.empty((n_pars,n_pars,n_fits))\n",
    "for f in range(n_fits):\n",
    "    chi_sqs[f] = result.fit_results[f].chisq_fin\n",
    "    for p in range(n_pars):\n",
    "        par_results[p][f] = result.fit_results[f].pars_fin[p]\n",
    "        unc_results[p][f] = result.fit_results[f].uncs_fin[p]\n",
    "        for p2 in range(n_pars):\n",
    "            cor_matrix_results[p][p2][f] = result.fit_results[f].cor_matrix[p][p2]"
   ]
  },
  {
   "cell_type": "markdown",
   "metadata": {},
   "source": [
    "### Calculate result averages"
   ]
  },
  {
   "cell_type": "code",
   "execution_count": 5,
   "metadata": {
    "collapsed": true
   },
   "outputs": [],
   "source": [
    "chi_sq_avg = np.average(chi_sqs)\n",
    "par_avg = [np.average(p_vals) for p_vals in par_results]\n",
    "unc_avg = [np.average(p_uncs) for p_uncs in unc_results]\n",
    "cor_matrix_avg = np.array([[np.average(p1p2_element) for p1p2_element in p1_column] for p1_column in cor_matrix_results] )"
   ]
  },
  {
   "cell_type": "markdown",
   "metadata": {},
   "source": [
    "### Create histograms for each parameter using boost-histogram"
   ]
  },
  {
   "cell_type": "code",
   "execution_count": 6,
   "metadata": {
    "collapsed": false
   },
   "outputs": [
    {
     "name": "stdout",
     "output_type": "stream",
     "text": [
      "Delta-g1Z avg: 0.0005822506 std: 0.00281941929146 unc: 0.00170793085\n",
      "Delta-kappa_gamma avg: 0.00027854785 std: 0.000634932618305 unc: 0.00347488975\n",
      "Delta-lambda_gamma avg: 0.00055036854 std: 0.00198505402203 unc: 0.0013279658\n",
      "ChiXS_singleWplussemileptonic_LR avg: 1.00021523 std: 0.000683022724219 unc: 0.0031645749\n",
      "ChiXS_singleWplussemileptonic_RL avg: 0.98777635 std: 0.0586875293861 unc: 0.0583360465\n",
      "ChiXS_singleWplussemileptonic_RR avg: 1.000142805 std: 0.00114932429107 unc: 0.0081499086\n",
      "ChiXS_singleWminussemileptonic_LR avg: 0.99982989 std: 0.000743890475944 unc: 0.00316708615\n",
      "ChiXS_singleWminussemileptonic_RL avg: 1.0058629 std: 0.0488368955281 unc: 0.058753859\n",
      "ChiXS_singleWminussemileptonic_LL avg: 0.99434431 std: 0.00799849492393 unc: 0.0106115465\n",
      "ChiXS_WW_semilep_MuAntiNu_LR avg: 0.985770995 std: 0.0414008262668 unc: 0.026346183\n",
      "ChiXS_WW_semilep_MuAntiNu_RL avg: 1.31339945 std: 0.281789618345 unc: 0.47806343\n",
      "ChiXS_WW_semilep_AntiMuNu_LR avg: 0.962400385 std: 0.0464176923108 unc: 0.0274426205\n",
      "ChiXS_WW_semilep_AntiMuNu_RL avg: 1.043486575 std: 0.363329035777 unc: 0.46396264\n",
      "ChiXS_ZZsemileptonic_LR avg: 1.0014304 std: 0.00015485638508 unc: 0.00411507585\n",
      "ChiXS_ZZsemileptonic_RL avg: 0.99929954 std: 0.00322138050519 unc: 0.005142461\n",
      "ChiXS_Zhadronic_LR avg: 0.999982815 std: 0.000408969349035 unc: 0.0031018239\n",
      "ChiXS_Zhadronic_RL avg: 1.0001326 std: 9.81464212287e-05 unc: 0.0030937572\n",
      "ChiXS_Zleptonic_LR avg: 1.00010049 std: 0.000579558859996 unc: 0.00311270565\n",
      "ChiXS_Zleptonic_RL avg: 1.000021525 std: 0.000754023316118 unc: 0.0031062306\n",
      "Lumi250GeV avg: 2000.00005 std: 7.07106781009e-05 unc: 6.13866095\n"
     ]
    },
    {
     "name": "stderr",
     "output_type": "stream",
     "text": [
      "/home/jakob/anaconda3/lib/python3.5/site-packages/matplotlib/pyplot.py:516: RuntimeWarning: More than 20 figures have been opened. Figures created through the pyplot interface (`matplotlib.pyplot.figure`) are retained until explicitly closed and may consume too much memory. (To control this warning, see the rcParam `figure.max_open_warning`).\n",
      "  max_open_warning, RuntimeWarning)\n"
     ]
    },
    {
     "name": "stdout",
     "output_type": "stream",
     "text": [
      "ePol- avg: 0.799835755 std: 0.000100204101962 unc: 0.000493344625\n",
      "ePol+ avg: 0.800164375 std: 0.000189200561442 unc: 0.000239678145\n",
      "pPol- avg: 0.299941835 std: 8.70660579675e-05 unc: 0.000397499765\n",
      "pPol+ avg: 0.30014189 std: 0.000474892914245 unc: 0.000486673325\n"
     ]
    }
   ],
   "source": [
    "for p in range(n_pars):\n",
    "    p_avg = par_avg[p] # Average result of current parameter\n",
    "    p_min = np.amin(par_results[p]) # Smallest result for current parameter\n",
    "    p_max = np.amax(par_results[p]) # Largest result for current parameter\n",
    "    p_std = np.std(par_results[p],ddof=1) # Standard deviation of results for current parameter over all fits\n",
    "    \n",
    "    # x-axis minimum and maximum\n",
    "    x_min = p_min - 0.1*(p_avg-p_min)\n",
    "    x_max = p_max + 0.1*(p_max-p_avg)\n",
    "\n",
    "    # Create a histogram for this parameter\n",
    "    fig, ax = plt.subplots(tight_layout=True)\n",
    "    hist_entries, hist_edges, _ = ax.hist(par_results[p], range=(x_min,x_max), bins=10, histtype='step', color='black', label=\"Fit results\")\n",
    "    ax.set_xlabel(\"Fit result\")\n",
    "    ax.set_ylabel(\"#Toys\")\n",
    "    \n",
    "    # Calculate bin centers\n",
    "    bin_centers = 0.5 * (hist_edges[:-1] + hist_edges[1:])\n",
    "    \n",
    "    # Plot poissonian errorbars\n",
    "    ax.errorbar(bin_centers, hist_entries, yerr=np.sqrt(hist_entries), color='black', fmt='none')\n",
    "    \n",
    "    # Plot mean, standard deviation and average uncertainty\n",
    "    y_lims = ax.get_ylim() # Keep y-axis limits constant\n",
    "    l_mean = ax.plot([p_avg,p_avg], [0,y_lims[1]],color='red', label=\"Mean of toys\")\n",
    "    l_std_min = ax.plot([p_avg-p_std,p_avg-p_std], [0,y_lims[1]],color='green', label=\"Std. of toys\")\n",
    "    l_std_max = ax.plot([p_avg+p_std,p_avg+p_std], [0,y_lims[1]],color='green')\n",
    "    l_unc_min = ax.plot([p_avg-unc_avg[p],p_avg-unc_avg[p]], [0,y_lims[1]],color='magenta', label=\"Avg. fit unc.\")\n",
    "    l_unc_max = ax.plot([p_avg+unc_avg[p],p_avg+unc_avg[p]], [0,y_lims[1]],color='magenta')\n",
    "    ax.set_ylim(y_lims) # Keep y-axis limits constant\n",
    "    \n",
    "    # Add legend\n",
    "    ax.legend(title=result.par_names[p])\n",
    "    \n",
    "    fig.savefig(\"../output/hist_\" + result.par_names[p] + \".pdf\")\n",
    "    print(result.par_names[p] + \" avg: \" + str(p_avg) + \" std: \" + str(p_std) + \" unc: \" + str(unc_avg[p]))"
   ]
  },
  {
   "cell_type": "markdown",
   "metadata": {},
   "source": [
    "### Draw average correlation matrix"
   ]
  },
  {
   "cell_type": "code",
   "execution_count": 7,
   "metadata": {
    "collapsed": false
   },
   "outputs": [
    {
     "name": "stderr",
     "output_type": "stream",
     "text": [
      "/home/jakob/anaconda3/lib/python3.5/site-packages/matplotlib/pyplot.py:516: RuntimeWarning: More than 20 figures have been opened. Figures created through the pyplot interface (`matplotlib.pyplot.figure`) are retained until explicitly closed and may consume too much memory. (To control this warning, see the rcParam `figure.max_open_warning`).\n",
      "  max_open_warning, RuntimeWarning)\n"
     ]
    }
   ],
   "source": [
    "# Create figure for plots and adjust height and width\n",
    "fig_cor, ax_cor = plt.subplots()\n",
    "fig_cor.set_figheight(8.5)\n",
    "fig_cor.set_figwidth(10)\n",
    "\n",
    "# Plot a 2D color plot (sharp, no interpolations, using PRGn color map)\n",
    "im_cor = ax_cor.imshow(cor_matrix_avg,interpolation='none',cmap='PRGn')\n",
    "cb_cor = fig_cor.colorbar(im_cor, ax=ax_cor) # Show what the colors mean\n",
    "im_cor.set_clim(-1, 1); # Correlations are between -1 and +1\n",
    "\n",
    "# We want to show all ticks...\n",
    "ax_cor.set_xticks(np.arange(n_pars))\n",
    "ax_cor.set_yticks(np.arange(n_pars))\n",
    "# ... and label them with the respective list entries\n",
    "ax_cor.set_xticklabels(result.par_names)\n",
    "ax_cor.set_yticklabels(result.par_names)\n",
    "\n",
    "# Rotate the tick labels and set their alignment.\n",
    "plt.setp(ax_cor.get_xticklabels(), rotation=45, ha=\"right\",\n",
    "         rotation_mode=\"anchor\")\n",
    "\n",
    "ax_cor.set_title(\"Average correlation matrix\")\n",
    "fig_cor.tight_layout()\n",
    "fig_cor.savefig(\"../output/hist_cor.pdf\")"
   ]
  },
  {
   "cell_type": "markdown",
   "metadata": {},
   "source": [
    "### Plot the chi-sq distribution"
   ]
  },
  {
   "cell_type": "code",
   "execution_count": 8,
   "metadata": {
    "collapsed": false
   },
   "outputs": [
    {
     "name": "stderr",
     "output_type": "stream",
     "text": [
      "/home/jakob/anaconda3/lib/python3.5/site-packages/matplotlib/pyplot.py:516: RuntimeWarning: More than 20 figures have been opened. Figures created through the pyplot interface (`matplotlib.pyplot.figure`) are retained until explicitly closed and may consume too much memory. (To control this warning, see the rcParam `figure.max_open_warning`).\n",
      "  max_open_warning, RuntimeWarning)\n"
     ]
    },
    {
     "name": "stdout",
     "output_type": "stream",
     "text": [
      "Average $\\chi^2$: 58255.488\n"
     ]
    }
   ],
   "source": [
    "chi_sq_min = np.amin(chi_sqs) # Smallest chi^2 found\n",
    "chi_sq_max = np.amax(chi_sqs) # Largest chi^2 found\n",
    "\n",
    "# x-axis minimum and maximum\n",
    "x_min_chi_sq = chi_sq_min - 0.1*(chi_sq_avg-chi_sq_min) \n",
    "x_max_chi_sq = chi_sq_max + 0.1*(chi_sq_max-chi_sq_avg)\n",
    "\n",
    "# Plot histogram of all found chi^2 values\n",
    "fig_chi_sq, ax_chi_sq = plt.subplots(tight_layout=True)\n",
    "hist_chi_sq = ax_chi_sq.hist(chi_sqs, range=(x_min_chi_sq,x_max_chi_sq), bins=15, histtype='step', color='black')\n",
    "ax_chi_sq.set_xlabel(r\"$\\chi^2$\")\n",
    "ax_chi_sq.set_ylabel(\"#Toys\")\n",
    "\n",
    "# Plot mean chi^2 of all toy fits\n",
    "y_lims_chi_sq = ax_chi_sq.get_ylim()\n",
    "l_mean_chi_sq = ax_chi_sq.plot([chi_sq_avg,chi_sq_avg], [0,y_lims_chi_sq[1]],color='red')\n",
    "ax_chi_sq.set_ylim(y_lims_chi_sq)\n",
    "\n",
    "fig_chi_sq.savefig(\"../output/hist_chisq.pdf\")\n",
    "print(r\"Average $\\chi^2$: \" + str(chi_sq_avg))"
   ]
  }
 ],
 "metadata": {
  "kernelspec": {
   "display_name": "Python 3",
   "language": "python",
   "name": "python3"
  },
  "language_info": {
   "codemirror_mode": {
    "name": "ipython",
    "version": 3
   },
   "file_extension": ".py",
   "mimetype": "text/x-python",
   "name": "python",
   "nbconvert_exporter": "python",
   "pygments_lexer": "ipython3",
   "version": "3.5.1"
  }
 },
 "nbformat": 4,
 "nbformat_minor": 4
}