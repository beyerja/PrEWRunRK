{
 "cells": [
  {
   "cell_type": "markdown",
   "metadata": {},
   "source": [
    "## Analysing output of PrEWRunRK fits\n",
    "\n",
    "Using output of test toy fits from PrEW, import it into the PrOut python classes and create some histograms with it."
   ]
  },
  {
   "cell_type": "markdown",
   "metadata": {},
   "source": [
    "### Import PrEW output module"
   ]
  },
  {
   "cell_type": "code",
   "execution_count": 1,
   "metadata": {
    "collapsed": false
   },
   "outputs": [],
   "source": [
    "import sys\n",
    "sys.path.append(\"/afs/desy.de/group/flc/pool/beyerjac/TGCAnalysis/PrEW/source/prout\")\n",
    "import PrOut"
   ]
  },
  {
   "cell_type": "markdown",
   "metadata": {},
   "source": [
    "### Import other modules"
   ]
  },
  {
   "cell_type": "code",
   "execution_count": 2,
   "metadata": {
    "collapsed": true
   },
   "outputs": [],
   "source": [
    "import numpy as np\n",
    "import matplotlib.pyplot as plt"
   ]
  },
  {
   "cell_type": "markdown",
   "metadata": {},
   "source": [
    "### Read output file"
   ]
  },
  {
   "cell_type": "code",
   "execution_count": 3,
   "metadata": {
    "collapsed": false
   },
   "outputs": [
    {
     "name": "stdout",
     "output_type": "stream",
     "text": [
      "Found 1 run(s).\n"
     ]
    }
   ],
   "source": [
    "reader = PrOut.Reader(\"../output/fit_results.out\")\n",
    "reader.read()\n",
    "print(\"Found \" + str(len(reader.run_results)) + \" run(s).\")"
   ]
  },
  {
   "cell_type": "markdown",
   "metadata": {},
   "source": [
    "### Collect parameters"
   ]
  },
  {
   "cell_type": "code",
   "execution_count": 4,
   "metadata": {
    "collapsed": false
   },
   "outputs": [],
   "source": [
    "# Assuming only one toy run (with many toys) was performed, get number of parameters and performed toy fits\n",
    "result = reader.run_results[0]\n",
    "n_pars = len(result.par_names)\n",
    "n_fits = len(result.fit_results)\n",
    "\n",
    "# Get the chi-squared values, parameters, uncertainties and correlation matrices from each fit\n",
    "chi_sqs = np.empty(n_fits)\n",
    "par_results = np.empty((n_pars,n_fits))\n",
    "unc_results = np.empty((n_pars,n_fits))\n",
    "cor_matrix_results = np.empty((n_pars,n_pars,n_fits))\n",
    "for f in range(n_fits):\n",
    "    chi_sqs[f] = result.fit_results[f].chisq_fin\n",
    "    for p in range(n_pars):\n",
    "        par_results[p][f] = result.fit_results[f].pars_fin[p]\n",
    "        unc_results[p][f] = result.fit_results[f].uncs_fin[p]\n",
    "        for p2 in range(n_pars):\n",
    "            cor_matrix_results[p][p2][f] = result.fit_results[f].cor_matrix[p][p2]"
   ]
  },
  {
   "cell_type": "markdown",
   "metadata": {},
   "source": [
    "### Calculate result averages"
   ]
  },
  {
   "cell_type": "code",
   "execution_count": 5,
   "metadata": {
    "collapsed": true
   },
   "outputs": [],
   "source": [
    "chi_sq_avg = np.average(chi_sqs)\n",
    "par_avg = [np.average(p_vals) for p_vals in par_results]\n",
    "unc_avg = [np.average(p_uncs) for p_uncs in unc_results]\n",
    "cor_matrix_avg = np.array([[np.average(p1p2_element) for p1p2_element in p1_column] for p1_column in cor_matrix_results] )"
   ]
  },
  {
   "cell_type": "markdown",
   "metadata": {},
   "source": [
    "### Create histograms for each parameter using boost-histogram"
   ]
  },
  {
   "cell_type": "code",
   "execution_count": null,
   "metadata": {
    "collapsed": false
   },
   "outputs": [],
   "source": [
    "for p in range(n_pars):\n",
    "    p_avg = par_avg[p] # Average result of current parameter\n",
    "    p_min = np.amin(par_results[p]) # Smallest result for current parameter\n",
    "    p_max = np.amax(par_results[p]) # Largest result for current parameter\n",
    "    p_std = np.std(par_results[p],ddof=1) # Standard deviation of results for current parameter over all fits\n",
    "    \n",
    "    # x-axis minimum and maximum\n",
    "    x_min = p_min - 0.1*(p_avg-p_min)\n",
    "    x_max = p_max + 0.1*(p_max-p_avg)\n",
    "\n",
    "    # Create a histogram for this parameter\n",
    "    fig, ax = plt.subplots(tight_layout=True)\n",
    "    hist_entries, hist_edges, _ = ax.hist(par_results[p], range=(x_min,x_max), bins=10, histtype='step', color='black', label=\"Fit results\")\n",
    "    ax.set_xlabel(\"Fit result\")\n",
    "    ax.set_ylabel(\"#Toys\")\n",
    "    \n",
    "    # Calculate bin centers\n",
    "    bin_centers = 0.5 * (hist_edges[:-1] + hist_edges[1:])\n",
    "    \n",
    "    # Plot poissonian errorbars\n",
    "    ax.errorbar(bin_centers, hist_entries, yerr=np.sqrt(hist_entries), color='black', fmt='none')\n",
    "    \n",
    "    # Plot mean, standard deviation and average uncertainty\n",
    "    y_lims = ax.get_ylim() # Keep y-axis limits constant\n",
    "    l_mean = ax.plot([p_avg,p_avg], [0,y_lims[1]],color='red', label=\"Mean of toys\")\n",
    "    l_std_min = ax.plot([p_avg-p_std,p_avg-p_std], [0,y_lims[1]],color='green', label=\"Std. of toys\")\n",
    "    l_std_max = ax.plot([p_avg+p_std,p_avg+p_std], [0,y_lims[1]],color='green')\n",
    "    l_unc_min = ax.plot([p_avg-unc_avg[p],p_avg-unc_avg[p]], [0,y_lims[1]],color='magenta', label=\"Avg. fit unc.\")\n",
    "    l_unc_max = ax.plot([p_avg+unc_avg[p],p_avg+unc_avg[p]], [0,y_lims[1]],color='magenta')\n",
    "    ax.set_ylim(y_lims) # Keep y-axis limits constant\n",
    "    \n",
    "    # Add legend\n",
    "    ax.legend(title=result.par_names[p])\n",
    "    \n",
    "    fig.savefig(\"../output/hist_\" + result.par_names[p] + \".pdf\")\n",
    "    print(result.par_names[p] + \" avg: \" + str(p_avg) + \" std: \" + str(p_std) + \" unc: \" + str(unc_avg[p]))"
   ]
  },
  {
   "cell_type": "markdown",
   "metadata": {},
   "source": [
    "### Draw average correlation matrix"
   ]
  },
  {
   "cell_type": "code",
   "execution_count": null,
   "metadata": {
    "collapsed": false
   },
   "outputs": [],
   "source": [
    "# Create figure for plots and adjust height and width\n",
    "fig_cor, ax_cor = plt.subplots()\n",
    "fig_cor.set_figheight(8.5)\n",
    "fig_cor.set_figwidth(10)\n",
    "\n",
    "# Plot a 2D color plot (sharp, no interpolations, using PRGn color map)\n",
    "im_cor = ax_cor.imshow(cor_matrix_avg,interpolation='none',cmap='PRGn')\n",
    "cb_cor = fig_cor.colorbar(im_cor, ax=ax_cor) # Show what the colors mean\n",
    "im_cor.set_clim(-1, 1); # Correlations are between -1 and +1\n",
    "\n",
    "# We want to show all ticks...\n",
    "ax_cor.set_xticks(np.arange(n_pars))\n",
    "ax_cor.set_yticks(np.arange(n_pars))\n",
    "# ... and label them with the respective list entries\n",
    "ax_cor.set_xticklabels(result.par_names)\n",
    "ax_cor.set_yticklabels(result.par_names)\n",
    "\n",
    "# Rotate the tick labels and set their alignment.\n",
    "plt.setp(ax_cor.get_xticklabels(), rotation=45, ha=\"right\",\n",
    "         rotation_mode=\"anchor\")\n",
    "\n",
    "ax_cor.set_title(\"Average correlation matrix\")\n",
    "fig_cor.tight_layout()\n",
    "fig_cor.savefig(\"../output/hist_cor.pdf\")"
   ]
  },
  {
   "cell_type": "markdown",
   "metadata": {},
   "source": [
    "### Plot the chi-sq/ndof distribution"
   ]
  },
  {
   "cell_type": "code",
   "execution_count": null,
   "metadata": {
    "collapsed": false
   },
   "outputs": [],
   "source": [
    "# Degrees of freedom = #Bins - #FreeParameters (Here: Assume all fits have same ndof)\n",
    "n_dof = result.fit_results[0].n_bins - result.fit_results[0].n_free_pars\n",
    "\n",
    "norm_chi_sqs = chi_sqs/n_dof\n",
    "norm_chi_sq_avg = np.average(norm_chi_sqs)\n",
    "\n",
    "chi_sq_min = np.amin(norm_chi_sqs) # Smallest chi^2/ndof found\n",
    "chi_sq_max = np.amax(norm_chi_sqs) # Largest chi^2/ndof found\n",
    "\n",
    "# x-axis minimum and maximum\n",
    "x_min_chi_sq = chi_sq_min - 0.1*(norm_chi_sq_avg-chi_sq_min) \n",
    "x_max_chi_sq = chi_sq_max + 0.1*(chi_sq_max-norm_chi_sq_avg)\n",
    "\n",
    "# Plot histogram of all found chi^2 values\n",
    "fig_chi_sq, ax_chi_sq = plt.subplots(tight_layout=True)\n",
    "hist_chi_sq = ax_chi_sq.hist(norm_chi_sqs, range=(x_min_chi_sq,x_max_chi_sq), bins=15, histtype='step', color='black')\n",
    "ax_chi_sq.set_xlabel(r\"$\\chi^2/ndof$\")\n",
    "ax_chi_sq.set_ylabel(\"#Toys\")\n",
    "ax_chi_sq.set_ylim([0,1.1*np.amax(hist_chi_sq[0])])\n",
    "\n",
    "# Plot mean chi^2 of all toy fits\n",
    "y_lims_chi_sq = ax_chi_sq.get_ylim()\n",
    "l_mean_chi_sq = ax_chi_sq.plot([norm_chi_sq_avg,norm_chi_sq_avg], [0,y_lims_chi_sq[1]],color='red')\n",
    "ax_chi_sq.set_ylim(y_lims_chi_sq)\n",
    "\n",
    "# Box showing the number of degrees of freedom\n",
    "ndof_str = r\"$ndof$ = \" + str(n_dof)\n",
    "props = dict(boxstyle='round', facecolor='white')\n",
    "ax_chi_sq.text(0.65, 0.85, ndof_str, transform=ax.transAxes, fontsize=14, verticalalignment='top', bbox=props)\n",
    "\n",
    "fig_chi_sq.savefig(\"../output/hist_chisq.pdf\")\n",
    "print(r\"Average $\\chi^2$: \" + str(chi_sq_avg))\n",
    "print(r\"Average $\\chi^2/ndof$: \" + str(norm_chi_sq_avg))"
   ]
  },
  {
   "cell_type": "markdown",
   "metadata": {},
   "source": [
    "### Plot cov. matrix calculation status statitics to detect if problems occured"
   ]
  },
  {
   "cell_type": "code",
   "execution_count": null,
   "metadata": {
    "collapsed": false
   },
   "outputs": [],
   "source": [
    "# Get covariance matrix calculation status for each fit\n",
    "cov_status_arr = np.empty(n_fits)\n",
    "for f in range(n_fits):\n",
    "    cov_status_arr[f] = result.fit_results[f].cov_status\n",
    "    \n",
    "# Plot the status histogram\n",
    "fig_cov_stat, ax_cov_stat = plt.subplots(tight_layout=True)\n",
    "hist_cov_stat = ax_cov_stat.hist(cov_status_arr, range=(-1.5,3.5), bins=5, histtype='step', color='black')\n",
    "ax_cov_stat.set_title(\"Cov. matr. calc. status\")\n",
    "ax_cov_stat.set_ylabel(\"#Toys\")\n",
    "ax_cov_stat.set_yscale('log') # Log scale to see when individuals go wrong\n",
    "\n",
    "# Set appropriate y axis range\n",
    "y_lims_cov_stat = ax_cov_stat.get_ylim()\n",
    "ax_cov_stat.set_ylim(0.9, 1.2*np.amax(hist_cov_stat[0]))\n",
    "\n",
    "# x axis labels with possible outcomes\n",
    "cov_stat_ax_labels = [\"PrEW output failure\", \"not calculated\", \"approximated\", \"made pos def\", \"accurate\"]\n",
    "ax_cov_stat.set_xticks(np.arange(-1, len(cov_stat_ax_labels)))\n",
    "ax_cov_stat.set_xticklabels(cov_stat_ax_labels)\n",
    "\n",
    "# Rotate the tick labels and set their alignment.\n",
    "plt.setp(ax_cov_stat.get_xticklabels(), rotation=45, ha=\"right\", rotation_mode=\"anchor\")\n",
    "\n",
    "fig_cov_stat.savefig(\"../output/hist_cov_status.pdf\")"
   ]
  },
  {
   "cell_type": "markdown",
   "metadata": {
    "collapsed": true
   },
   "source": [
    "### Plot minimizer status statitics to detect if problems occured"
   ]
  },
  {
   "cell_type": "code",
   "execution_count": 10,
   "metadata": {
    "collapsed": false
   },
   "outputs": [],
   "source": [
    "min_status_arr = np.empty(n_fits)\n",
    "for f in range(n_fits):\n",
    "    min_status_arr[f] = result.fit_results[f].min_status\n",
    "    \n",
    "fig_min_stat, ax_min_stat = plt.subplots(tight_layout=True)\n",
    "hist_min_stat = ax_min_stat.hist(min_status_arr, range=(-1.5,6.5), bins=8, histtype='step', color='black')\n",
    "ax_min_stat.set_title(\"Minimizer status\")\n",
    "ax_min_stat.set_ylabel(\"#Toys\")\n",
    "ax_min_stat.set_yscale('log')\n",
    "\n",
    "y_lims_min_stat = ax_min_stat.get_ylim()\n",
    "ax_min_stat.set_ylim(0.9, 1.2*np.amax(hist_min_stat[0]))\n",
    "\n",
    "# Write x-axis labels that tell problem exactly (corresponding to value from -1 to 6)\n",
    "min_stat_ax_labels = [\"PrEW output failure\", \"All good\", \"Cov-matr. made pos. def.\", \"Hesse not valid\", \"EDM above max\", \"Call limit reached\", \"Cov-matr. not pos. def.\", \"UNEXPECTED\"]\n",
    "ax_min_stat.set_xticks(np.arange(-1, len(min_stat_ax_labels)))\n",
    "ax_min_stat.set_xticklabels(min_stat_ax_labels)\n",
    "\n",
    "# Rotate the tick labels and set their alignment.\n",
    "plt.setp(ax_min_stat.get_xticklabels(), rotation=45, ha=\"right\", rotation_mode=\"anchor\")\n",
    "\n",
    "fig_min_stat.savefig(\"../output/hist_min_status.pdf\")"
   ]
  },
  {
   "cell_type": "markdown",
   "metadata": {},
   "source": [
    "### Plot number of fct calls and iterations for optimization"
   ]
  },
  {
   "cell_type": "code",
   "execution_count": 11,
   "metadata": {
    "collapsed": false
   },
   "outputs": [],
   "source": [
    "n_calls_arr = np.empty(n_fits)\n",
    "n_iters_arr = np.empty(n_fits)\n",
    "for f in range(n_fits):\n",
    "    n_calls_arr[f] = result.fit_results[f].n_fct_calls\n",
    "    n_iters_arr[f] = result.fit_results[f].n_iters\n",
    "\n",
    "# Create the figure with the histograms\n",
    "fig_n_stat, ax_n_stat = plt.subplots(tight_layout=True)\n",
    "hist_n_calls_stat = ax_n_stat.hist(n_calls_arr, bins=15, histtype='step', color='blue', label=\"#FctCalls\")\n",
    "hist_n_iters_stat = ax_n_stat.hist(n_iters_arr, bins=15, histtype='step', color='red', label=\"#Iterations\")\n",
    "ax_n_stat.set_xlabel(\"N\")\n",
    "ax_n_stat.set_ylabel(\"#Toys\")\n",
    "ax_n_stat.set_ylim([0, 1.2*np.amax([np.amax(hist_n_calls_stat[0]),np.amax(hist_n_iters_stat[0])])])\n",
    "\n",
    "# Add a legend \n",
    "ax_n_stat.legend()\n",
    "\n",
    "fig_n_stat.savefig(\"../output/hist_n_stats.pdf\")"
   ]
  }
 ],
 "metadata": {
  "kernelspec": {
   "display_name": "Python 3",
   "language": "python",
   "name": "python3"
  },
  "language_info": {
   "codemirror_mode": {
    "name": "ipython",
    "version": 3
   },
   "file_extension": ".py",
   "mimetype": "text/x-python",
   "name": "python",
   "nbconvert_exporter": "python",
   "pygments_lexer": "ipython3",
   "version": "3.5.1"
  }
 },
 "nbformat": 4,
 "nbformat_minor": 4
}
